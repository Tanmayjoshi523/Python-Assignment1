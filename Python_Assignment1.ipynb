{
  "nbformat": 4,
  "nbformat_minor": 0,
  "metadata": {
    "colab": {
      "provenance": []
    },
    "kernelspec": {
      "name": "python3",
      "display_name": "Python 3"
    },
    "language_info": {
      "name": "python"
    }
  },
  "cells": [
    {
      "cell_type": "markdown",
      "source": [
        "** *PYTHON BASICS QUESTION* **\n"
      ],
      "metadata": {
        "id": "l-Wz49i4kNUg"
      }
    },
    {
      "cell_type": "code",
      "execution_count": null,
      "metadata": {
        "id": "imjT46Ygj3UN"
      },
      "outputs": [],
      "source": [
        "#1 What is Python, and why is it popular?\n",
        "'''\n",
        "Python is a high-level, interpreted programming language known for its\n",
        "*Simple syntax (easy to learn and read)\n",
        "*Versatility (used in web development, data science, automation, AI, etc)\n",
        "*Huge standard library and third-party modules\n",
        "*Large community support\n",
        "\n",
        "'''"
      ]
    },
    {
      "cell_type": "code",
      "source": [
        "#2. What is an interpreter in Python?\n",
        "'''\n",
        "An interpreter is a program that reads and executes code line by line.\n",
        "In Python, the interpreter:\n",
        "\n",
        "Translates Python source code (.py) into bytecode\n",
        "\n",
        "Executes the bytecode directly\n",
        "'''"
      ],
      "metadata": {
        "id": "cCRCHulalfYN"
      },
      "execution_count": null,
      "outputs": []
    },
    {
      "cell_type": "code",
      "source": [
        "#3. What are pre-defined keywords in Python?\n",
        "'''\n",
        "  Keywords are reserved words that have a special meaning in Python.\n",
        "  Examples: if, else, for, while, def, class, import, return, etc.\n",
        "'''\n",
        "import keyword\n",
        "print(keyword.kwlist)\n"
      ],
      "metadata": {
        "colab": {
          "base_uri": "https://localhost:8080/"
        },
        "id": "smrPsAX8mzzQ",
        "outputId": "add632a6-64fd-429b-f169-795ded15e97f"
      },
      "execution_count": 1,
      "outputs": [
        {
          "output_type": "stream",
          "name": "stdout",
          "text": [
            "['False', 'None', 'True', 'and', 'as', 'assert', 'async', 'await', 'break', 'class', 'continue', 'def', 'del', 'elif', 'else', 'except', 'finally', 'for', 'from', 'global', 'if', 'import', 'in', 'is', 'lambda', 'nonlocal', 'not', 'or', 'pass', 'raise', 'return', 'try', 'while', 'with', 'yield']\n"
          ]
        }
      ]
    },
    {
      "cell_type": "code",
      "source": [
        "#4. Can keywords be used as variable names?\n",
        "'''No, keywords cannot be used as variable names.\n",
        "'''\n"
      ],
      "metadata": {
        "id": "9khsSljjoVT0"
      },
      "execution_count": null,
      "outputs": []
    },
    {
      "cell_type": "code",
      "source": [
        "#5. What is mutability in Python?\n",
        "'''\n",
        "   Mutability refers to whether an object’s value can change after creation.\n",
        "   Mutable Can be changed (e.g., list, dict, set)\n",
        "   Immutable Cannot be changed (e.g., int, str, tuple)\n",
        "'''"
      ],
      "metadata": {
        "id": "cRYzy-heniQL"
      },
      "execution_count": null,
      "outputs": []
    },
    {
      "cell_type": "code",
      "source": [
        "#6. Why are lists mutable, but tuples are immutable?\n",
        "'''\n",
        "Lists are designed for dynamic data – elements can be added, removed, or changed.\n",
        "Tuples are meant for fixed data – they ensure data integrity and faster access.\n",
        "'''"
      ],
      "metadata": {
        "id": "qj3b9xEan0DK"
      },
      "execution_count": null,
      "outputs": []
    },
    {
      "cell_type": "code",
      "source": [
        "#7. What is the difference between == and is operators in Python?\n",
        "'''\n",
        "   (==) checks value equality (are contents the same)\n",
        "   (is) checks identity (are they the same object in memory)\n",
        "\n",
        "EXAMPLE\n",
        "'''\n",
        "a = [1, 2]\n",
        "b = [1, 2]\n",
        "print(a == b)\n",
        "print(a is b)"
      ],
      "metadata": {
        "colab": {
          "base_uri": "https://localhost:8080/"
        },
        "id": "H_4ryedUoG5a",
        "outputId": "d6d201a7-5989-458b-b420-372263adb1eb"
      },
      "execution_count": 2,
      "outputs": [
        {
          "output_type": "stream",
          "name": "stdout",
          "text": [
            "True\n",
            "False\n"
          ]
        }
      ]
    },
    {
      "cell_type": "code",
      "source": [
        "#8. What are logical operators in Python?\n",
        "'''\n",
        "  Logical operators are used to combine conditional statements:\n",
        "\n",
        "   and – True if both conditions are True\n",
        "\n",
        "   or – True if at least one condition is True\n",
        "\n",
        "   not – Reverses the logical state\n",
        "'''\n",
        "a = 10\n",
        "b = 5\n",
        "print(a > 5 and b < 10)\n",
        ""
      ],
      "metadata": {
        "colab": {
          "base_uri": "https://localhost:8080/"
        },
        "id": "RCfqj-0ypzY0",
        "outputId": "3535ccea-856c-4d62-a87e-90cea0e2df24"
      },
      "execution_count": 3,
      "outputs": [
        {
          "output_type": "stream",
          "name": "stdout",
          "text": [
            "True\n"
          ]
        }
      ]
    },
    {
      "cell_type": "code",
      "source": [
        "#9.What is type casting in Python?\n",
        "'''\n",
        "   Type casting in Python means converting a value from one data type to another\n",
        "'''"
      ],
      "metadata": {
        "id": "ZWFA_B4MqQk7"
      },
      "execution_count": null,
      "outputs": []
    },
    {
      "cell_type": "code",
      "source": [
        "#10. What is the difference between implicit and explicit type casting?\n",
        "'''\n",
        "   Implicit casting: Python automatically converts data types.\n",
        "\n",
        "   Explicit casting: You manually convert using functions like int(), float(), str().\n",
        "\n",
        "FOR EXAMPLE\n",
        "'''\n",
        "#IMPLICIT\n",
        "x = 5\n",
        "y = 2.0\n",
        "z = x + y  # x is implicitly converted to float\n",
        "\n",
        "#EXPLICIT\n",
        "x = \"10\"\n",
        "y = int(x)  # Explicit cast from str to int"
      ],
      "metadata": {
        "id": "tIc6CmK6qpGE"
      },
      "execution_count": 5,
      "outputs": []
    },
    {
      "cell_type": "code",
      "source": [
        "#11. What is the purpose of conditional statements in Python?\n",
        "'''\n",
        "  Conditional statements control program flow based on conditions.\n",
        "  They let the program make decisions (e.g., if, elif, else).\n",
        "'''"
      ],
      "metadata": {
        "id": "-Sr7BxjVri1c"
      },
      "execution_count": null,
      "outputs": []
    },
    {
      "cell_type": "code",
      "source": [
        "#12. How does the elif statement work?\n",
        "'''\n",
        "   (elif) stands for \"else if\". It checks multiple conditions after (if).\n",
        "\n",
        "\n",
        "EXAMPLE\n",
        "'''\n",
        "x = 10\n",
        "if x > 20:\n",
        "    print(\"Greater than 20\")\n",
        "elif x == 10:\n",
        "    print(\"Equals 10\")  # ✅ This runs\n",
        "else:\n",
        "    print(\"Less than 10\")\n",
        ""
      ],
      "metadata": {
        "colab": {
          "base_uri": "https://localhost:8080/"
        },
        "id": "aXdEkG9_tffU",
        "outputId": "2b7035ec-f719-4c30-cb6d-4713a45fa2f9"
      },
      "execution_count": 6,
      "outputs": [
        {
          "output_type": "stream",
          "name": "stdout",
          "text": [
            "Equals 10\n"
          ]
        }
      ]
    },
    {
      "cell_type": "code",
      "source": [
        "#13. What is the difference between for and while loops?\n",
        "'''\n",
        "   **for** loop: Used for iterating over sequences (e.g., lists, strings, ranges)\n",
        "\n",
        "   **while** loop: Repeats as long as a condition is True.\n",
        "\n",
        "'''\n",
        "\n"
      ],
      "metadata": {
        "id": "aKeDjC8juFfj"
      },
      "execution_count": null,
      "outputs": []
    },
    {
      "cell_type": "code",
      "source": [
        "#14. Describe a scenario where a while loop is more suitable than a for loop.\n",
        "'''\n",
        "   When you don't know in advance how many times you need to loop.\n",
        "\n",
        "Example:\n",
        "Keep asking the user until they enter \"yes\"\n",
        "\n",
        "'''\n",
        "response = \"\"\n",
        "while response != \"yes\":\n",
        "    response = input(\"Type 'yes' to continue: \")\n"
      ],
      "metadata": {
        "colab": {
          "base_uri": "https://localhost:8080/"
        },
        "id": "4FX3pIp7uZPC",
        "outputId": "74baca9b-6897-46b5-a838-0cba9dd12e80"
      },
      "execution_count": 8,
      "outputs": [
        {
          "name": "stdout",
          "output_type": "stream",
          "text": [
            "Type 'yes' to continue: no\n",
            "Type 'yes' to continue: no\n",
            "Type 'yes' to continue: yes\n"
          ]
        }
      ]
    },
    {
      "cell_type": "markdown",
      "source": [],
      "metadata": {
        "id": "RQluoAH8j9e7"
      }
    },
    {
      "cell_type": "markdown",
      "source": [
        "* **PRACTICAL QUESTIONS** *"
      ],
      "metadata": {
        "id": "OkKtUKnWvOiF"
      }
    },
    {
      "cell_type": "code",
      "source": [
        "#1. Print \"Hello, World!\"\n",
        "\n",
        "print(\"Hello, World!\")"
      ],
      "metadata": {
        "colab": {
          "base_uri": "https://localhost:8080/"
        },
        "id": "r3mWxs-22XgS",
        "outputId": "33324bfc-1194-41e2-f95a-43039f113649"
      },
      "execution_count": 12,
      "outputs": [
        {
          "output_type": "stream",
          "name": "stdout",
          "text": [
            "Hello, World!\n"
          ]
        }
      ]
    },
    {
      "cell_type": "code",
      "source": [
        "#2.Display your name and age.\n",
        "name = \"Tanmay Joshi\"\n",
        "age = 22\n",
        "print(\"Name:\", name)\n",
        "print(\"Age:\", age)"
      ],
      "metadata": {
        "colab": {
          "base_uri": "https://localhost:8080/"
        },
        "id": "gQMJm1Je2lkw",
        "outputId": "38a8b0c7-cf00-42ef-ddf3-a67a4102f358"
      },
      "execution_count": 13,
      "outputs": [
        {
          "output_type": "stream",
          "name": "stdout",
          "text": [
            "Name: Tanmay Joshi\n",
            "Age: 22\n"
          ]
        }
      ]
    },
    {
      "cell_type": "code",
      "source": [
        "#3.Print all predefined keywords using the keyword library.\n",
        "import keyword\n",
        "print(\"Python Keywords:\")\n",
        "print(keyword.kwlist)"
      ],
      "metadata": {
        "colab": {
          "base_uri": "https://localhost:8080/"
        },
        "id": "fnPNh4UH3TP9",
        "outputId": "5d4b076a-43d1-4847-c54b-ff66af50d5ac"
      },
      "execution_count": 14,
      "outputs": [
        {
          "output_type": "stream",
          "name": "stdout",
          "text": [
            "Python Keywords:\n",
            "['False', 'None', 'True', 'and', 'as', 'assert', 'async', 'await', 'break', 'class', 'continue', 'def', 'del', 'elif', 'else', 'except', 'finally', 'for', 'from', 'global', 'if', 'import', 'in', 'is', 'lambda', 'nonlocal', 'not', 'or', 'pass', 'raise', 'return', 'try', 'while', 'with', 'yield']\n"
          ]
        }
      ]
    },
    {
      "cell_type": "code",
      "source": [
        "#4. Check if a word is a Python keyword.import keyword\n",
        "\n",
        "word = input(\"Enter a word: \")\n",
        "if keyword.iskeyword(word):\n",
        "    print(f\"'{word}' is a Python keyword.\")\n",
        "else:\n",
        "    print(f\"'{word}' is not a Python keyword.\")\n",
        "\n"
      ],
      "metadata": {
        "colab": {
          "base_uri": "https://localhost:8080/"
        },
        "id": "N0ASPmC_3dxj",
        "outputId": "b2a0da14-13bd-4365-d513-073074130e84"
      },
      "execution_count": 16,
      "outputs": [
        {
          "output_type": "stream",
          "name": "stdout",
          "text": [
            "Enter a word: if\n",
            "'if' is a Python keyword.\n"
          ]
        }
      ]
    },
    {
      "cell_type": "code",
      "source": [
        "#5. Function to show mutable vs immutable behavior.\n",
        "def modify_data(a, b):\n",
        "    a = a + 1       # immutable (int)\n",
        "    b.append(4)     # mutable (list)\n",
        "    print(\"Inside function:\")\n",
        "    print(\"a =\", a)\n",
        "    print(\"b =\", b)\n",
        "\n",
        "x = 5\n",
        "y = [1, 2, 3]\n",
        "modify_data(x, y)\n",
        "\n",
        "print(\"Outside function:\")\n",
        "print(\"x =\", x)\n",
        "print(\"y =\", y)\n"
      ],
      "metadata": {
        "colab": {
          "base_uri": "https://localhost:8080/"
        },
        "id": "ln1ql2an3-d6",
        "outputId": "3741e45d-1131-4e33-9a93-950f62adae36"
      },
      "execution_count": 17,
      "outputs": [
        {
          "output_type": "stream",
          "name": "stdout",
          "text": [
            "Inside function:\n",
            "a = 6\n",
            "b = [1, 2, 3, 4]\n",
            "Outside function:\n",
            "x = 5\n",
            "y = [1, 2, 3, 4]\n"
          ]
        }
      ]
    },
    {
      "cell_type": "code",
      "source": [
        "#6. Basic arithmetic on two user inputs.\n",
        "a = float(input(\"Enter first number: \"))\n",
        "b = float(input(\"Enter second number: \"))\n",
        "\n",
        "print(\"Addition:\", a + b)\n",
        "print(\"Subtraction:\", a - b)\n",
        "print(\"Multiplication:\", a * b)\n",
        "print(\"Division:\", a / b)"
      ],
      "metadata": {
        "colab": {
          "base_uri": "https://localhost:8080/"
        },
        "id": "Wytla9734sc2",
        "outputId": "b050e294-388c-4e84-aa93-87303e990cad"
      },
      "execution_count": 18,
      "outputs": [
        {
          "output_type": "stream",
          "name": "stdout",
          "text": [
            "Enter first number: 8\n",
            "Enter second number: 12\n",
            "Addition: 20.0\n",
            "Subtraction: -4.0\n",
            "Multiplication: 96.0\n",
            "Division: 0.6666666666666666\n"
          ]
        }
      ]
    },
    {
      "cell_type": "code",
      "source": [
        "#7. Demonstrate use of logical operators.\n",
        "x = int(input(\"Enter a number: \"))\n",
        "if x > 0 and x < 100:\n",
        "    print(\"Number is between 1 and 99\")\n",
        "if x < 0 or x > 100:\n",
        "    print(\"Number is either negative or greater than 100\")\n",
        "if not x == 50:\n",
        "    print(\"Number is not equal to 50\")"
      ],
      "metadata": {
        "colab": {
          "base_uri": "https://localhost:8080/"
        },
        "id": "j7JOqqcM4_T4",
        "outputId": "72c415ef-753f-4042-b499-d6c792fa5381"
      },
      "execution_count": 19,
      "outputs": [
        {
          "output_type": "stream",
          "name": "stdout",
          "text": [
            "Enter a number: 3\n",
            "Number is between 1 and 99\n",
            "Number is not equal to 50\n"
          ]
        }
      ]
    },
    {
      "cell_type": "code",
      "source": [
        "#8. List vs Tuple (immutability).\n",
        "my_list = [1, 2, 3]\n",
        "my_tuple = (1, 2, 3)\n",
        "\n",
        "my_list[0] = 10\n",
        "print(\"Modified list:\", my_list)\n",
        "print(\"Original tuple (can't modify):\", my_tuple)"
      ],
      "metadata": {
        "colab": {
          "base_uri": "https://localhost:8080/"
        },
        "id": "Ek7dmcrV5YEa",
        "outputId": "5208eae5-dbcb-4f4f-b3f4-44b6abe02d36"
      },
      "execution_count": 20,
      "outputs": [
        {
          "output_type": "stream",
          "name": "stdout",
          "text": [
            "Modified list: [10, 2, 3]\n",
            "Original tuple (can't modify): (1, 2, 3)\n"
          ]
        }
      ]
    },
    {
      "cell_type": "code",
      "source": [
        "#9.Convert user input to int, float, and bool.\n",
        "value = input(\"Enter a value: \")\n",
        "print(\"As integer:\", int(value))\n",
        "print(\"As float:\", float(value))\n",
        "print(\"As boolean:\", bool(value))"
      ],
      "metadata": {
        "colab": {
          "base_uri": "https://localhost:8080/"
        },
        "id": "e2q6FBm95oot",
        "outputId": "81cfcaed-de6f-47ce-baf6-8b82fa0e4a1f"
      },
      "execution_count": 21,
      "outputs": [
        {
          "output_type": "stream",
          "name": "stdout",
          "text": [
            "Enter a value: 2\n",
            "As integer: 2\n",
            "As float: 2.0\n",
            "As boolean: True\n"
          ]
        }
      ]
    },
    {
      "cell_type": "code",
      "source": [
        "#10. Type casting with list elements.\n",
        "str_list = ['1', '2', '3']\n",
        "int_list = [int(x) for x in str_list]\n",
        "print(\"Original list (strings):\", str_list)\n",
        "print(\"Converted list (integers):\", int_list)"
      ],
      "metadata": {
        "colab": {
          "base_uri": "https://localhost:8080/"
        },
        "id": "V7c1JfqB5162",
        "outputId": "310809b8-83a1-46c6-cdfb-afce9bae4002"
      },
      "execution_count": 23,
      "outputs": [
        {
          "output_type": "stream",
          "name": "stdout",
          "text": [
            "Original list (strings): ['1', '2', '3']\n",
            "Converted list (integers): [1, 2, 3]\n"
          ]
        }
      ]
    },
    {
      "cell_type": "code",
      "source": [
        "#11. Check if a number is positive, negative, or zero.\n",
        "num = float(input(\"Enter a number: \"))\n",
        "if num > 0:\n",
        "    print(\"Positive number\")\n",
        "elif num < 0:\n",
        "    print(\"Negative number\")\n",
        "else:\n",
        "    print(\"Zero\")"
      ],
      "metadata": {
        "colab": {
          "base_uri": "https://localhost:8080/"
        },
        "id": "KsVzfwhL6F6f",
        "outputId": "c21a1730-aa70-4fbf-8e68-f033528ce97b"
      },
      "execution_count": 24,
      "outputs": [
        {
          "output_type": "stream",
          "name": "stdout",
          "text": [
            "Enter a number: 4\n",
            "Positive number\n"
          ]
        }
      ]
    },
    {
      "cell_type": "code",
      "source": [
        "#12. For loop from 1 to 10.\n",
        "for i in range(1, 11):\n",
        "    print(i)"
      ],
      "metadata": {
        "colab": {
          "base_uri": "https://localhost:8080/"
        },
        "id": "ladmVVOt6U8G",
        "outputId": "f914d7d8-fd6c-4474-b8b2-b3a5d97dceb1"
      },
      "execution_count": 25,
      "outputs": [
        {
          "output_type": "stream",
          "name": "stdout",
          "text": [
            "1\n",
            "2\n",
            "3\n",
            "4\n",
            "5\n",
            "6\n",
            "7\n",
            "8\n",
            "9\n",
            "10\n"
          ]
        }
      ]
    },
    {
      "cell_type": "code",
      "source": [
        "#13. Sum of even numbers from 1 to 50.\n",
        "total = 0\n",
        "for i in range(1, 51):\n",
        "    if i % 2 == 0:\n",
        "        total += i\n",
        "print(\"Sum of even numbers from 1 to 50:\", total)"
      ],
      "metadata": {
        "colab": {
          "base_uri": "https://localhost:8080/"
        },
        "id": "aSZ5Zbfv6guA",
        "outputId": "75ccd1cf-d9ad-44f9-a68f-5bb130d2693a"
      },
      "execution_count": 26,
      "outputs": [
        {
          "output_type": "stream",
          "name": "stdout",
          "text": [
            "Sum of even numbers from 1 to 50: 650\n"
          ]
        }
      ]
    },
    {
      "cell_type": "code",
      "source": [
        "#14. Reverse a string using a while loop.\n",
        "text = input(\"Enter a string: \")\n",
        "reversed_str = \"\"\n",
        "i = len(text) - 1\n",
        "while i >= 0:\n",
        "    reversed_str += text[i]\n",
        "    i -= 1\n",
        "print(\"Reversed string:\", reversed_str)"
      ],
      "metadata": {
        "colab": {
          "base_uri": "https://localhost:8080/"
        },
        "id": "JypneZgS6txJ",
        "outputId": "2ec0060e-9eb2-43d1-87fe-35b4b8ed7b9f"
      },
      "execution_count": 27,
      "outputs": [
        {
          "output_type": "stream",
          "name": "stdout",
          "text": [
            "Enter a string: swim\n",
            "Reversed string: miws\n"
          ]
        }
      ]
    },
    {
      "cell_type": "code",
      "source": [
        "#15. Factorial using a while loop.\n",
        "num = int(input(\"Enter a number: \"))\n",
        "fact = 1\n",
        "i = 1\n",
        "while i <= num:\n",
        "    fact *= i\n",
        "    i += 1\n",
        "print(\"Factorial of\", num, \"is\", fact)"
      ],
      "metadata": {
        "colab": {
          "base_uri": "https://localhost:8080/"
        },
        "id": "AIc-Jmyu7Epg",
        "outputId": "8d82fe9c-d502-42bb-a382-2b696576df26"
      },
      "execution_count": 28,
      "outputs": [
        {
          "output_type": "stream",
          "name": "stdout",
          "text": [
            "Enter a number: 2\n",
            "Factorial of 2 is 2\n"
          ]
        }
      ]
    }
  ]
}