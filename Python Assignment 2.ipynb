{
  "nbformat": 4,
  "nbformat_minor": 0,
  "metadata": {
    "colab": {
      "provenance": []
    },
    "kernelspec": {
      "name": "python3",
      "display_name": "Python 3"
    },
    "language_info": {
      "name": "python"
    }
  },
  "cells": [
    {
      "cell_type": "code",
      "execution_count": null,
      "metadata": {
        "id": "jSZBXv0Ojrdu"
      },
      "outputs": [],
      "source": [
        " #1. What are data structures, and why are they important?\n",
        " '''\n",
        "Data structures are ways of organizing and storing data so they can be accessed\n",
        "and modified efficiently.They are important because they help:\n",
        "\n",
        "-Manage large amounts of data\n",
        "\n",
        "-Improve performance and memory usage\n",
        "\n",
        "-Support various programming paradigms (OOP, procedural, etc.)\n",
        "\n",
        "-Solve real-world problems more effectively\n",
        "'''"
      ]
    },
    {
      "cell_type": "markdown",
      "source": [],
      "metadata": {
        "id": "LKj3Fhx1kNdf"
      }
    },
    {
      "cell_type": "code",
      "source": [
        "#2.Explain the difference between mutable and immutable data types with examples.\n",
        "'''\n",
        "Mutable: Can be changed after creation.\n",
        "Examples: list, dict, set\n",
        "'''\n",
        "my_list = [1, 2]\n",
        "my_list.append(3)  # Now [1, 2, 3]\n",
        "\n",
        "'''\n",
        "Immutable: Cannot be changed after creation.\n",
        "Examples: int, float, str, tuple\n",
        "'''\n",
        "my_str = \"hello\"\n",
        "\n"
      ],
      "metadata": {
        "id": "Hh31lh9XkPXj"
      },
      "execution_count": null,
      "outputs": []
    },
    {
      "cell_type": "code",
      "source": [
        "#3. What are the main differences between lists and tuples in Python?\n",
        "'''\n",
        "| Feature     | List         | Tuple              |\n",
        "| ----------- | ------------ | ------------------ |\n",
        "| Mutability  | Mutable      | Immutable          |\n",
        "| Syntax      | `[1, 2, 3]`  | `(1, 2, 3)`        |\n",
        "| Performance | Slower       | Faster (read-only) |\n",
        "| Use case    | Dynamic data | Fixed data         |\n",
        "'''\n"
      ],
      "metadata": {
        "id": "7pmkLRwTlHFI"
      },
      "execution_count": null,
      "outputs": []
    },
    {
      "cell_type": "code",
      "source": [
        "#4. Describe how dictionaries store data.\n",
        "'''\n",
        "Dictionaries store data as key-value pairs. Internally, they use hash tables,\n",
        " which allow fast lookup based on the key.\n",
        " '''\n",
        " student = {\"name\": \"Alice\", \"age\": 20}\n"
      ],
      "metadata": {
        "id": "BA0A4POlinep"
      },
      "execution_count": null,
      "outputs": []
    },
    {
      "cell_type": "code",
      "source": [
        "#5. Why might you use a set instead of a list in Python?\n",
        "'''\n",
        "To automatically remove duplicates.\n",
        "\n",
        "For fast membership tests.\n",
        "\n",
        "When the order doesn’t matter.\n",
        "'''\n",
        "my_list = [1, 2, 2, 3]\n",
        "my_set = set(my_list)  # {1, 2, 3}\n",
        "\n"
      ],
      "metadata": {
        "id": "ZQDkDGlFjCbx"
      },
      "execution_count": null,
      "outputs": []
    },
    {
      "cell_type": "code",
      "source": [
        "#6. What is a string in Python, and how is it different from a list?\n",
        "'''\n",
        "A string is a sequence of characters.\n",
        "Key differences:\n",
        "\n",
        "Strings are immutable, lists are mutable\n",
        "\n",
        "Strings store only characters; lists can store mixed data types.\n",
        "'''\n",
        "s = \"hello\"\n",
        "l = ['h', 'e', 'l', 'l', 'o']\n"
      ],
      "metadata": {
        "id": "PPGv834_jw11"
      },
      "execution_count": null,
      "outputs": []
    },
    {
      "cell_type": "code",
      "source": [
        "#7. How do tuples ensure data integrity in Python?\n",
        "'''\n",
        "Because tuples are immutable, their content can't be changed. This ensures:\n",
        "\n",
        "Data integrity (values won't accidentally change)\n",
        "\n",
        "They can be used as keys in dictionaries.\n",
        "'''"
      ],
      "metadata": {
        "id": "OCb4B6kWkHMY"
      },
      "execution_count": null,
      "outputs": []
    },
    {
      "cell_type": "code",
      "source": [
        "#8. What is a hash table, and how does it relate to dictionaries in Python?\n",
        "'''\n",
        "A hash table is a data structure that stores key-value pairs using a hash function.\n",
        "Python’s dictionaries are implemented using hash tables, allowing:\n",
        "\n",
        "->Fast lookup\n",
        "\n",
        "->Constant time complexity for most operations."
      ],
      "metadata": {
        "id": "Uo91ZTfPkUCE"
      },
      "execution_count": null,
      "outputs": []
    },
    {
      "cell_type": "code",
      "source": [
        "#9. Can lists contain different data types in Python?\n",
        "'''\n",
        "Yes. Python lists are heterogeneous.It can lists contain diffrent data types.\n",
        "'''\n",
        "mixed_list = [1, \"hello\", 3.14, [1, 2]]\n",
        "\n",
        "\n"
      ],
      "metadata": {
        "id": "PB38xrpWkmOP"
      },
      "execution_count": null,
      "outputs": []
    },
    {
      "cell_type": "code",
      "source": [
        "#10. Explain why strings are immutable in Python.\n",
        "'''\n",
        "Strings are immutable to:\n",
        "\n",
        "->Ensure security (useful in keys and hashing).\n",
        "\n",
        "->Make them thread-safe.\n",
        "\n",
        "->Allow reusability (interning)."
      ],
      "metadata": {
        "id": "1LPB8r63lBKE"
      },
      "execution_count": null,
      "outputs": []
    },
    {
      "cell_type": "code",
      "source": [
        "#11. What advantages do dictionaries offer over lists for certain tasks?\n",
        "->Faster lookup using keys (O(1))\n",
        "\n",
        "->Key-based access instead of index-based\n",
        "\n",
        "->Better organization of related data (name → age).\n",
        "\n"
      ],
      "metadata": {
        "id": "too4qYOelT5q"
      },
      "execution_count": null,
      "outputs": []
    },
    {
      "cell_type": "code",
      "source": [
        "#12. Describe a scenario where using a tuple would be preferable over a list.\n",
        "'''\n",
        "When you want to:\n",
        "\n",
        "->Store fixed, unchangeable data\n",
        "\n",
        "->Use it as a dictionary key\n",
        "\n",
        "->Improve performance\n",
        "'''\n",
        "location = (28.6139, 77.2090)  # Immutable GPS coordinates\n"
      ],
      "metadata": {
        "id": "R80UQA4xly8i"
      },
      "execution_count": null,
      "outputs": []
    },
    {
      "cell_type": "code",
      "source": [
        "#13.How do sets handle duplicate values in Python?\n",
        "'''\n",
        "Sets automatically remove duplicates.\n",
        "'''\n",
        "s = {1, 2, 2, 3}  # Results in {1, 2, 3}\n"
      ],
      "metadata": {
        "id": "6lDk9i6amHQ5"
      },
      "execution_count": null,
      "outputs": []
    },
    {
      "cell_type": "code",
      "source": [
        "#14. How does the “in” keyword work differently for lists and dictionaries?\n",
        "'''\n",
        "->List: checks values (linear search, O(n)).\n",
        "\n",
        "->Dict: checks keys (hashing, O(1)).\n",
        "'''\n",
        "3 in [1, 2, 3]          # True (checks values)\n",
        "\"name\" in {\"name\": \"A\"}  # True (checks keys)\n"
      ],
      "metadata": {
        "id": "YojbJ4SRmuc7"
      },
      "execution_count": null,
      "outputs": []
    },
    {
      "cell_type": "code",
      "source": [
        "#15. Can you modify the elements of a tuple? Explain why or why not.\n",
        "'''\n",
        "No. Tuples are immutable, meaning their elements can't be changed after creation.\n",
        "'''\n",
        "t = (1, 2)\n",
        "# t[0] = 10\n"
      ],
      "metadata": {
        "id": "is1QxLXjnJj_"
      },
      "execution_count": null,
      "outputs": []
    },
    {
      "cell_type": "code",
      "source": [
        "#16. What is a nested dictionary, and give an example of its use case.\n",
        "'''\n",
        "A dictionary within a dictionary.\n",
        "Use case: Storing structured data like student records.\n",
        "'''\n",
        "students = {\n",
        "  \"101\": {\"name\": \"Amit\", \"marks\": 85},\n",
        "  \"102\": {\"name\": \"Neha\", \"marks\": 90}\n",
        "}\n",
        "\n"
      ],
      "metadata": {
        "id": "Sa1zLMyvndbw"
      },
      "execution_count": null,
      "outputs": []
    },
    {
      "cell_type": "code",
      "source": [
        "#17. Describe the time complexity of accessing elements in a dictionary.\n",
        "'''\n",
        "Average case: O(1).\n",
        "\n",
        "Worst case: O(n) (rare, due to hash collisions).\n",
        "'''\n",
        "\n"
      ],
      "metadata": {
        "id": "iaWPa4eXoJoU"
      },
      "execution_count": null,
      "outputs": []
    },
    {
      "cell_type": "code",
      "source": [
        "#18. In what situations are lists preferred over dictionaries?\n",
        "'''\n",
        "When you need ordered data.\n",
        "\n",
        "When elements don't need unique identifiers.\n",
        "\n",
        "When accessing elements by position/index.\n",
        "'''"
      ],
      "metadata": {
        "id": "U1NEdv0hoihJ"
      },
      "execution_count": null,
      "outputs": []
    },
    {
      "cell_type": "code",
      "source": [
        "#19. Why are dictionaries considered unordered, and how does that affect data retrieval?\n",
        "'''\n",
        "Before Python 3.7, dictionaries didn't guarantee order. From Python 3.7+,\n",
        " insertion order is preserved, but dictionaries are still accessed by keys,\n",
        "  not index.\n",
        "  '''"
      ],
      "metadata": {
        "id": "pTgBnPtmo88t"
      },
      "execution_count": null,
      "outputs": []
    },
    {
      "cell_type": "code",
      "source": [
        "#20. Explain the difference between a list and a dictionary in terms of data retrieval.\n",
        "'''\n",
        "List: Retrieved using index\n",
        "'''\n",
        "my_list[0]\n",
        "\n",
        "'''\n",
        "Dictionary: Retrieved using key\n",
        "'''\n",
        "my_dict[\"name\"]\n"
      ],
      "metadata": {
        "id": "U9dBZtVspPfw"
      },
      "execution_count": null,
      "outputs": []
    },
    {
      "cell_type": "markdown",
      "source": [
        "# **PRACTICAL QUESTIONS**"
      ],
      "metadata": {
        "id": "cKTeioZixsI9"
      }
    },
    {
      "cell_type": "code",
      "source": [
        "#1. Create a string with your name and print it.\n",
        "name = \"Tanmay\"\n",
        "print(name)\n"
      ],
      "metadata": {
        "colab": {
          "base_uri": "https://localhost:8080/"
        },
        "id": "bIKy0X3Qx2WI",
        "outputId": "3d44e2c7-ad3f-4e79-c5f0-d6fff6711353"
      },
      "execution_count": 2,
      "outputs": [
        {
          "output_type": "stream",
          "name": "stdout",
          "text": [
            "Tanmay\n"
          ]
        }
      ]
    },
    {
      "cell_type": "code",
      "source": [
        "#2.Find the length of the string \"Hello World\".\n",
        "s = \"Hello World\"\n",
        "print(len(s))\n"
      ],
      "metadata": {
        "colab": {
          "base_uri": "https://localhost:8080/"
        },
        "id": "GOv4qCBgyICh",
        "outputId": "db8d8bbd-4fb8-444d-f470-9d25d382d0a8"
      },
      "execution_count": 3,
      "outputs": [
        {
          "output_type": "stream",
          "name": "stdout",
          "text": [
            "11\n"
          ]
        }
      ]
    },
    {
      "cell_type": "code",
      "source": [
        "#3.Slice the first 3 characters from \"Python Programming\".\n",
        "text = \"Python Programming\"\n",
        "print(text[:3])\n"
      ],
      "metadata": {
        "colab": {
          "base_uri": "https://localhost:8080/"
        },
        "id": "1Qeh9b-jyRa0",
        "outputId": "89f812cf-3627-4fed-a4ab-cf727c4c1118"
      },
      "execution_count": 4,
      "outputs": [
        {
          "output_type": "stream",
          "name": "stdout",
          "text": [
            "Pyt\n"
          ]
        }
      ]
    },
    {
      "cell_type": "code",
      "source": [
        "#4. Convert \"hello\" to uppercase.\n",
        "s = \"tanmay\"\n",
        "print(s.upper())\n"
      ],
      "metadata": {
        "colab": {
          "base_uri": "https://localhost:8080/"
        },
        "id": "m7_yCUfVydlR",
        "outputId": "e72b3bbf-c092-45a4-de60-6201c3404411"
      },
      "execution_count": 6,
      "outputs": [
        {
          "output_type": "stream",
          "name": "stdout",
          "text": [
            "TANMAY\n"
          ]
        }
      ]
    },
    {
      "cell_type": "code",
      "source": [
        "#5. Replace \"apple\" with \"orange\" in \"I like apple\".\n",
        "s = \"I like apple\"\n",
        "print(s.replace(\"apple\", \"orange\"))\n"
      ],
      "metadata": {
        "colab": {
          "base_uri": "https://localhost:8080/"
        },
        "id": "YhLmcUIAy8lz",
        "outputId": "babbb896-9fd5-482a-9a31-6eb7c4908c72"
      },
      "execution_count": 7,
      "outputs": [
        {
          "output_type": "stream",
          "name": "stdout",
          "text": [
            "I like orange\n"
          ]
        }
      ]
    },
    {
      "cell_type": "code",
      "source": [
        "#6. Create a list with numbers 1 to 5 and print it.\n",
        "numbers = [1, 2, 3, 4, 5]\n",
        "print(numbers)\n"
      ],
      "metadata": {
        "colab": {
          "base_uri": "https://localhost:8080/"
        },
        "id": "lmoiDIMuzUuN",
        "outputId": "5a29cd1a-4d6e-4c44-f450-7bc24ab9c0ed"
      },
      "execution_count": 8,
      "outputs": [
        {
          "output_type": "stream",
          "name": "stdout",
          "text": [
            "[1, 2, 3, 4, 5]\n"
          ]
        }
      ]
    },
    {
      "cell_type": "code",
      "source": [
        "#7. Append 10 to the list [1, 2, 3, 4].\n",
        "lst = [1, 2, 3, 4]\n",
        "lst.append(10)\n",
        "print(lst)\n",
        "\n"
      ],
      "metadata": {
        "colab": {
          "base_uri": "https://localhost:8080/"
        },
        "id": "HKk4EaMSzbr0",
        "outputId": "72c0a8c6-260a-4a3e-ec07-3cdf178f3413"
      },
      "execution_count": 9,
      "outputs": [
        {
          "output_type": "stream",
          "name": "stdout",
          "text": [
            "[1, 2, 3, 4, 10]\n"
          ]
        }
      ]
    },
    {
      "cell_type": "code",
      "source": [
        "#8. Remove 3 from the list [1, 2, 3, 4, 5].\n",
        "lst = [1, 2, 3, 4, 5]\n",
        "lst.remove(3)\n",
        "print(lst)\n"
      ],
      "metadata": {
        "colab": {
          "base_uri": "https://localhost:8080/"
        },
        "id": "KCoPzNdGzjqR",
        "outputId": "fae03497-3438-4f0c-b9d0-5cfaca33a8b2"
      },
      "execution_count": 10,
      "outputs": [
        {
          "output_type": "stream",
          "name": "stdout",
          "text": [
            "[1, 2, 4, 5]\n"
          ]
        }
      ]
    },
    {
      "cell_type": "code",
      "source": [
        "#9. Access the second element in ['a', 'b', 'c', 'd'].\n",
        "letters = ['a', 'b', 'c', 'd']\n",
        "print(letters[1])\n",
        "\n"
      ],
      "metadata": {
        "colab": {
          "base_uri": "https://localhost:8080/"
        },
        "id": "7Nq8XAmcztj6",
        "outputId": "e0aa073e-2554-455f-a7a7-f3fdbf69c062"
      },
      "execution_count": 11,
      "outputs": [
        {
          "output_type": "stream",
          "name": "stdout",
          "text": [
            "b\n"
          ]
        }
      ]
    },
    {
      "cell_type": "code",
      "source": [
        "#10. Reverse the list [10, 20, 30, 40, 50].\n",
        "lst = [10, 20, 30, 40, 50]\n",
        "lst.reverse()\n",
        "print(lst)\n"
      ],
      "metadata": {
        "colab": {
          "base_uri": "https://localhost:8080/"
        },
        "id": "L6B7VauDz5CX",
        "outputId": "6c31a920-1fc4-4eb2-f2fd-3c62a1c0337f"
      },
      "execution_count": 12,
      "outputs": [
        {
          "output_type": "stream",
          "name": "stdout",
          "text": [
            "[50, 40, 30, 20, 10]\n"
          ]
        }
      ]
    },
    {
      "cell_type": "code",
      "source": [
        "#11. Create a tuple with (100, 200, 300) and print it.\n",
        "t = (100, 200, 300)\n",
        "print(t)\n"
      ],
      "metadata": {
        "colab": {
          "base_uri": "https://localhost:8080/"
        },
        "id": "L-7XdmXT0BdM",
        "outputId": "c205a9a0-f505-4a4c-c794-f6b5ffe16bc9"
      },
      "execution_count": 13,
      "outputs": [
        {
          "output_type": "stream",
          "name": "stdout",
          "text": [
            "(100, 200, 300)\n"
          ]
        }
      ]
    },
    {
      "cell_type": "code",
      "source": [
        "#12.Access second-to-last element of ('red', 'green', 'blue', 'yellow').\n",
        "colors = ('red', 'green', 'blue', 'yellow')\n",
        "print(colors[-2])\n"
      ],
      "metadata": {
        "colab": {
          "base_uri": "https://localhost:8080/"
        },
        "id": "GtfO9-yu0Ls_",
        "outputId": "2daed7bc-bc69-4dd1-d1b2-afc2b193a3ff"
      },
      "execution_count": 14,
      "outputs": [
        {
          "output_type": "stream",
          "name": "stdout",
          "text": [
            "blue\n"
          ]
        }
      ]
    },
    {
      "cell_type": "code",
      "source": [
        "#13. Find minimum in (10, 20, 5, 15).\n",
        "t = (10, 20, 5, 15)\n",
        "print(min(t))\n"
      ],
      "metadata": {
        "colab": {
          "base_uri": "https://localhost:8080/"
        },
        "id": "3RWOyQ2P1yhw",
        "outputId": "c2bd1bce-8980-4997-abb2-02461a3b6076"
      },
      "execution_count": 15,
      "outputs": [
        {
          "output_type": "stream",
          "name": "stdout",
          "text": [
            "5\n"
          ]
        }
      ]
    },
    {
      "cell_type": "code",
      "source": [
        "#14. Find index of \"cat\" in ('dog', 'cat', 'rabbit').\n",
        "animals = ('dog', 'cat', 'rabbit')\n",
        "print(animals.index(\"cat\"))\n"
      ],
      "metadata": {
        "colab": {
          "base_uri": "https://localhost:8080/"
        },
        "id": "tYwjcD9113HQ",
        "outputId": "87da3d7b-d5f0-40f6-94c2-40fc7b2ae55e"
      },
      "execution_count": 16,
      "outputs": [
        {
          "output_type": "stream",
          "name": "stdout",
          "text": [
            "1\n"
          ]
        }
      ]
    },
    {
      "cell_type": "code",
      "source": [
        "#15. Tuple of 3 fruits, check if \"kiwi\" is in it.\n",
        "fruits = (\"apple\", \"banana\", \"mango\")\n",
        "print(\"kiwi\" in fruits)\n"
      ],
      "metadata": {
        "colab": {
          "base_uri": "https://localhost:8080/"
        },
        "id": "PBA1z9gH2AXg",
        "outputId": "256fcb18-8166-4168-acd9-15adb284effb"
      },
      "execution_count": 17,
      "outputs": [
        {
          "output_type": "stream",
          "name": "stdout",
          "text": [
            "False\n"
          ]
        }
      ]
    },
    {
      "cell_type": "code",
      "source": [
        "#16. Create set with 'a', 'b', 'c' and print.\n",
        "s = {'a', 'b', 'c'}\n",
        "print(s)\n"
      ],
      "metadata": {
        "colab": {
          "base_uri": "https://localhost:8080/"
        },
        "id": "qspzD_Aw2IyW",
        "outputId": "f3e4a72c-ace2-47d6-927f-d714a5de4d7b"
      },
      "execution_count": 18,
      "outputs": [
        {
          "output_type": "stream",
          "name": "stdout",
          "text": [
            "{'b', 'c', 'a'}\n"
          ]
        }
      ]
    },
    {
      "cell_type": "code",
      "source": [
        "#17. Clear all elements from {1, 2, 3, 4, 5}.\n",
        "s = {1, 2, 3, 4, 5}\n",
        "s.clear()\n",
        "print(s)\n"
      ],
      "metadata": {
        "colab": {
          "base_uri": "https://localhost:8080/"
        },
        "id": "pZM7xmDc2O-O",
        "outputId": "ce6ce2a7-a64e-4ffc-9aab-2d69c33d4d85"
      },
      "execution_count": 19,
      "outputs": [
        {
          "output_type": "stream",
          "name": "stdout",
          "text": [
            "set()\n"
          ]
        }
      ]
    },
    {
      "cell_type": "code",
      "source": [
        "#18. Remove 4 from {1, 2, 3, 4}.\n",
        "s = {1, 2, 3, 4}\n",
        "s.remove(4)\n",
        "print(s)\n"
      ],
      "metadata": {
        "colab": {
          "base_uri": "https://localhost:8080/"
        },
        "id": "s50mNp312t75",
        "outputId": "4b1ada75-14f9-4d8a-9904-e9dc787944ff"
      },
      "execution_count": 20,
      "outputs": [
        {
          "output_type": "stream",
          "name": "stdout",
          "text": [
            "{1, 2, 3}\n"
          ]
        }
      ]
    },
    {
      "cell_type": "code",
      "source": [
        "#19. Union of {1, 2, 3} and {3, 4, 5}.\n",
        "a = {1, 2, 3}\n",
        "b = {3, 4, 5}\n",
        "print(a.union(b))\n"
      ],
      "metadata": {
        "colab": {
          "base_uri": "https://localhost:8080/"
        },
        "id": "Tq5YVizN21FO",
        "outputId": "6225a3ca-bebb-47e5-dd5a-c3b8e04f3aa8"
      },
      "execution_count": 21,
      "outputs": [
        {
          "output_type": "stream",
          "name": "stdout",
          "text": [
            "{1, 2, 3, 4, 5}\n"
          ]
        }
      ]
    },
    {
      "cell_type": "code",
      "source": [
        "#20. Intersection of {1, 2, 3} and {2, 3, 4}.\n",
        "a = {1, 2, 3}\n",
        "b = {2, 3, 4}\n",
        "print(a.intersection(b))\n"
      ],
      "metadata": {
        "colab": {
          "base_uri": "https://localhost:8080/"
        },
        "id": "EMl75a_n81bM",
        "outputId": "9b27d930-fdb7-4ad5-b82d-76a81d3c0aa0"
      },
      "execution_count": 22,
      "outputs": [
        {
          "output_type": "stream",
          "name": "stdout",
          "text": [
            "{2, 3}\n"
          ]
        }
      ]
    },
    {
      "cell_type": "code",
      "source": [
        "#21. Create dictionary with \"name\", \"age\", \"city\" and print.\n",
        "person = {\"name\": \"Alice\", \"age\": 30, \"city\": \"Delhi\"}\n",
        "print(person)\n"
      ],
      "metadata": {
        "colab": {
          "base_uri": "https://localhost:8080/"
        },
        "id": "UCFvKlhL89MG",
        "outputId": "c3252f93-6b8f-4738-ed1b-9da8658aeb0d"
      },
      "execution_count": 23,
      "outputs": [
        {
          "output_type": "stream",
          "name": "stdout",
          "text": [
            "{'name': 'Alice', 'age': 30, 'city': 'Delhi'}\n"
          ]
        }
      ]
    },
    {
      "cell_type": "code",
      "source": [
        "#22. Add \"country\": \"USA\" to {'name': 'John', 'age': 25}.\n",
        "d = {'name': 'John', 'age': 25}\n",
        "d[\"country\"] = \"USA\"\n",
        "print(d)\n"
      ],
      "metadata": {
        "colab": {
          "base_uri": "https://localhost:8080/"
        },
        "id": "4oBWo4HF9B46",
        "outputId": "c6a2009d-bdcd-4925-f492-ed772aabc770"
      },
      "execution_count": 24,
      "outputs": [
        {
          "output_type": "stream",
          "name": "stdout",
          "text": [
            "{'name': 'John', 'age': 25, 'country': 'USA'}\n"
          ]
        }
      ]
    },
    {
      "cell_type": "code",
      "source": [
        "#23. Access value of \"name\" in {'name': 'Alice', 'age': 30}.\n",
        "d = {'name': 'Alice', 'age': 30}\n",
        "print(d[\"name\"])\n"
      ],
      "metadata": {
        "colab": {
          "base_uri": "https://localhost:8080/"
        },
        "id": "MpWU_X2y9It8",
        "outputId": "5e0d4806-e730-460f-d123-44d3e4189b39"
      },
      "execution_count": 25,
      "outputs": [
        {
          "output_type": "stream",
          "name": "stdout",
          "text": [
            "Alice\n"
          ]
        }
      ]
    },
    {
      "cell_type": "code",
      "source": [
        "#24. Remove \"age\" from {'name': 'Bob', 'age': 22, 'city': 'New York'}.\n",
        "d = {'name': 'Bob', 'age': 22, 'city': 'New York'}\n",
        "d.pop(\"age\")\n",
        "print(d)\n"
      ],
      "metadata": {
        "colab": {
          "base_uri": "https://localhost:8080/"
        },
        "id": "BgoxmU-i9VVD",
        "outputId": "c815b51f-5dde-4f4c-906c-07e9765ec857"
      },
      "execution_count": 26,
      "outputs": [
        {
          "output_type": "stream",
          "name": "stdout",
          "text": [
            "{'name': 'Bob', 'city': 'New York'}\n"
          ]
        }
      ]
    },
    {
      "cell_type": "code",
      "source": [
        "#25. Check if \"city\" exists in {'name': 'Alice', 'city': 'Paris'}.\n",
        "d = {'name': 'Alice', 'city': 'Paris'}\n",
        "print(\"city\" in d)\n"
      ],
      "metadata": {
        "colab": {
          "base_uri": "https://localhost:8080/"
        },
        "id": "AJBTIe3w9cq4",
        "outputId": "dc8a46ce-37cd-4401-c4ac-a83a02d59474"
      },
      "execution_count": 27,
      "outputs": [
        {
          "output_type": "stream",
          "name": "stdout",
          "text": [
            "True\n"
          ]
        }
      ]
    },
    {
      "cell_type": "code",
      "source": [
        "#26. Create and print a list, tuple, and dictionary.\n",
        "lst = [1, 2, 3]\n",
        "tup = (4, 5, 6)\n",
        "dct = {\"a\": 1, \"b\": 2}\n",
        "print(lst)\n",
        "print(tup)\n",
        "print(dct)\n"
      ],
      "metadata": {
        "colab": {
          "base_uri": "https://localhost:8080/"
        },
        "id": "fklynSR79hQp",
        "outputId": "32363b2a-c515-4dbe-8f26-f4f43d0c8c06"
      },
      "execution_count": 28,
      "outputs": [
        {
          "output_type": "stream",
          "name": "stdout",
          "text": [
            "[1, 2, 3]\n",
            "(4, 5, 6)\n",
            "{'a': 1, 'b': 2}\n"
          ]
        }
      ]
    },
    {
      "cell_type": "code",
      "source": [
        "#27. Create a list of 5 random numbers (1–100), sort and print.\n",
        "import random\n",
        "nums = random.sample(range(1, 101), 5)\n",
        "nums.sort()\n",
        "print(nums)\n"
      ],
      "metadata": {
        "colab": {
          "base_uri": "https://localhost:8080/"
        },
        "id": "2d2C0i8q9p28",
        "outputId": "ac6f71ec-ed7b-4387-b79f-96c6571d1484"
      },
      "execution_count": 29,
      "outputs": [
        {
          "output_type": "stream",
          "name": "stdout",
          "text": [
            "[1, 21, 47, 55, 73]\n"
          ]
        }
      ]
    },
    {
      "cell_type": "code",
      "source": [
        "#28. List with strings, print element at third index\n",
        "words = [\"apple\", \"banana\", \"cherry\", \"date\", \"elderberry\"]\n",
        "print(words[3])\n",
        "\n",
        "\n"
      ],
      "metadata": {
        "colab": {
          "base_uri": "https://localhost:8080/"
        },
        "id": "20NWVCPq9wwq",
        "outputId": "ed918a0a-6fcc-4b5b-b5da-0901541ab16a"
      },
      "execution_count": 31,
      "outputs": [
        {
          "output_type": "stream",
          "name": "stdout",
          "text": [
            "date\n"
          ]
        }
      ]
    },
    {
      "cell_type": "code",
      "source": [
        "#29. Combine two dictionaries and print.\n",
        "d1 = {\"a\": 1, \"b\": 2}\n",
        "d2 = {\"c\": 3, \"d\": 4}\n",
        "combined = {**d1, **d2}\n",
        "print(combined)\n"
      ],
      "metadata": {
        "colab": {
          "base_uri": "https://localhost:8080/"
        },
        "id": "4GbZxtV-96WP",
        "outputId": "2eb6b881-827e-463c-f65c-95da61368a11"
      },
      "execution_count": 32,
      "outputs": [
        {
          "output_type": "stream",
          "name": "stdout",
          "text": [
            "{'a': 1, 'b': 2, 'c': 3, 'd': 4}\n"
          ]
        }
      ]
    },
    {
      "cell_type": "code",
      "source": [
        "#30. Convert list of strings to a set.\n",
        "str_list = [\"apple\", \"banana\", \"apple\", \"cherry\"]\n",
        "str_set = set(str_list)\n",
        "print(str_set)\n"
      ],
      "metadata": {
        "colab": {
          "base_uri": "https://localhost:8080/"
        },
        "id": "ZFus68EF-Apr",
        "outputId": "63e2b698-ea13-48b1-e8a1-d3879f552753"
      },
      "execution_count": 33,
      "outputs": [
        {
          "output_type": "stream",
          "name": "stdout",
          "text": [
            "{'apple', 'banana', 'cherry'}\n"
          ]
        }
      ]
    }
  ]
}