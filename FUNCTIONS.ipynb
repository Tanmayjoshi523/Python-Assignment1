{
  "nbformat": 4,
  "nbformat_minor": 0,
  "metadata": {
    "colab": {
      "provenance": []
    },
    "kernelspec": {
      "name": "python3",
      "display_name": "Python 3"
    },
    "language_info": {
      "name": "python"
    }
  },
  "cells": [
    {
      "cell_type": "markdown",
      "source": [
        "THEORETICAL QUESTIONS:"
      ],
      "metadata": {
        "id": "HjcKqQEq_OXS"
      }
    },
    {
      "cell_type": "markdown",
      "source": [
        "1. What is the difference between a function and a method in Python?\n",
        "\n",
        "2. Explain the concept of function arguments and parameters in Python.\n",
        "\n",
        "3. What are the different ways to define and call a function in Python?\n",
        "\n",
        "4. What is the purpose of the `return` statement in a Python function?\n",
        "\n",
        "5. What are iterators in Python and how do they differ from iterables?\n",
        "\n",
        "6. Explain the concept of generators in Python and how they are defined.\n",
        "\n",
        "7. What are the advantages of using generators over regular functions?\n",
        "\n",
        "8. What is a lambda function in Python and when is it typically used?\n",
        "\n",
        "9. Explain the purpose and usage of the `map()` function in Python.\n",
        "\n",
        "10. What is the difference between `map()`, `reduce()`, and `filter()` functions in Python?\n",
        "\n",
        "11. Using pen & Paper write the internal mechanism for sum operation using  reduce function on this given\n",
        "list:[47,11,42,13];"
      ],
      "metadata": {
        "id": "JJftysVJAc46"
      }
    },
    {
      "cell_type": "code",
      "execution_count": null,
      "metadata": {
        "id": "hGhLSGIN4dU6"
      },
      "outputs": [],
      "source": [
        "#1. Difference between a Function and a Method in Python.\n",
        "'''Function: A block of reusable code defined using def, not tied to any object.\n",
        "\n",
        "Method: A function that is associated with an object/class and is called using\n",
        " dot. notation.'''\n",
        "\n",
        " '''EXAMPLE'''\n",
        " def greet():           # Function\n",
        "    print(\"Hello\")\n",
        "\n",
        "class Person:\n",
        "    def speak(self):   # Method\n",
        "        print(\"Speaking\")\n"
      ]
    },
    {
      "cell_type": "code",
      "source": [
        "#2. Explain the concept of function arguments and parameters in Python.\n",
        "'''\n",
        "* Parameters: Variables defined in the function definition.\n",
        "\n",
        "* Arguments: Actual values passed to the function during a call.\n",
        "'''\n",
        "\n",
        "\n",
        "'EXAMPLE'\n",
        "def add(a, b):   # a and b are parameters\n",
        "    return a + b\n",
        "\n",
        "add(3, 5)        # 3 and 5 are arguments\n"
      ],
      "metadata": {
        "id": "cSHFYqiS6UrE"
      },
      "execution_count": null,
      "outputs": []
    },
    {
      "cell_type": "code",
      "source": [
        "#3.What are the different ways to define and call a function in Python?\n",
        "'''\n",
        "* Define: Using def or lambda\n",
        "\n",
        "* Call: By function name and passing arguments\n",
        "'''\n",
        "'EXAMPLE'\n",
        "def hello():            # Regular function\n",
        "    print(\"Hi\")\n",
        "\n",
        "hello()\n",
        "\n",
        "add = lambda x, y: x+y  # Lambda function\n",
        "print(add(2, 3))\n"
      ],
      "metadata": {
        "id": "cG2FlZL7636a"
      },
      "execution_count": null,
      "outputs": []
    },
    {
      "cell_type": "code",
      "source": [
        "#4. What is the purpose of the return statement in a Python function?\n",
        "'''\n",
        "Returns a value from a function to the caller.\n",
        "\n",
        "Ends function execution.\n",
        "'''\n",
        "\n",
        "'EXAMPLE'\n",
        "def square(x):\n",
        "    return x * x\n",
        "\n",
        "result = square(4)  # result = 16\n"
      ],
      "metadata": {
        "id": "amG7xlpk7P8k"
      },
      "execution_count": null,
      "outputs": []
    },
    {
      "cell_type": "code",
      "source": [
        "#5. What are iterators in Python and how do they differ from iterables?\n",
        "'''\n",
        "Iterable: Any object you can iterate over (like lists, tuples, strings).\n",
        "\n",
        "Iterator: An object with __next__() and __iter__() methods.\n",
        "'''\n",
        "lst = [1, 2, 3]          # Iterable\n",
        "itr = iter(lst)         # Iterator\n",
        "print(next(itr))        # 1\n"
      ],
      "metadata": {
        "id": "mY9_nHlc7ich"
      },
      "execution_count": null,
      "outputs": []
    },
    {
      "cell_type": "code",
      "source": [
        "#6. Explain the concept of generators in Python and how they are defined.\n",
        "'''\n",
        "A generator is a function that yields a sequence of results instead of returning one value.\n",
        "\n",
        "Uses the yield keyword.\n",
        "'''\n",
        "def count_up_to(n):\n",
        "    i = 1\n",
        "    while i <= n:\n",
        "        yield i\n",
        "        i += 1\n",
        "\n",
        "for num in count_up_to(3):\n",
        "    print(num)  # 1 2 3\n"
      ],
      "metadata": {
        "id": "hWzWOy9t9gbV"
      },
      "execution_count": null,
      "outputs": []
    },
    {
      "cell_type": "code",
      "source": [
        "#7. What are the advantages of using generators over regular functions?\n",
        "'''\n",
        "Memory efficient: Generates items one at a time.\n",
        "\n",
        "Faster for large data streams.\n",
        "\n",
        "Lazy evaluation: Only computes next value when needed.\n",
        "'''"
      ],
      "metadata": {
        "id": "LZzSmaOj9sJJ"
      },
      "execution_count": null,
      "outputs": []
    },
    {
      "cell_type": "code",
      "source": [
        "#8. What is a lambda function in Python and when is it typically used?\n",
        "'''\n",
        "A small anonymous function defined with lambda.\n",
        "\n",
        "Used for short, throwaway functions.\n",
        "'''\n",
        "square = lambda x: x * x\n",
        "print(square(5))  # 25\n"
      ],
      "metadata": {
        "id": "p9uTp3g994AU"
      },
      "execution_count": null,
      "outputs": []
    },
    {
      "cell_type": "code",
      "source": [
        "#9. Explain the purpose and usage of the `map()` function in Python.\n",
        "'''\n",
        "Applies a function to every item in an iterable.\n",
        "'''\n",
        "nums = [1, 2, 3]\n",
        "squared = list(map(lambda x: x**2, nums))  # [1, 4, 9]\n"
      ],
      "metadata": {
        "id": "meN2r8Fy-EgY"
      },
      "execution_count": null,
      "outputs": []
    },
    {
      "cell_type": "code",
      "source": [
        "#10. What is the difference between `map()`, `reduce()`, and `filter()` functions in Python?\n",
        "'''\n",
        "| Function                        | Description                                               | Returns           |\n",
        "| ------------------------------- | --------------------------------------------------------- | ----------------- |\n",
        "| `map()`                         | Applies a function to all items                           | New iterable      |\n",
        "| `filter()`                      | Filters items using a function                            | Filtered iterable |\n",
        "| `reduce()` *(from `functools`)* | Applies function cumulatively to reduce to a single value | Single value      |\n",
        "'''\n",
        "\n",
        "from functools import reduce\n",
        "\n",
        "nums = [1, 2, 3, 4]\n",
        "\n",
        "map_result = list(map(lambda x: x*2, nums))     # [2, 4, 6, 8]\n",
        "filter_result = list(filter(lambda x: x % 2 == 0, nums))  # [2, 4]\n",
        "reduce_result = reduce(lambda x, y: x + y, nums)  # 10\n"
      ],
      "metadata": {
        "id": "0zSvgGxJ-SHy"
      },
      "execution_count": null,
      "outputs": []
    },
    {
      "cell_type": "code",
      "source": [
        "#11. Using pen & Paper write the internal mechanism for sum operation using reduce function on this given list:[47,11,42,13];\n",
        " '''\n",
        " from functools import reduce\n",
        "\n",
        "numbers = [47, 11, 42, 13]\n",
        "result = reduce(lambda x, y: x + y, numbers)\n",
        "'''\n"
      ],
      "metadata": {
        "id": "Lz5HtRHW-nFk"
      },
      "execution_count": null,
      "outputs": []
    },
    {
      "cell_type": "markdown",
      "source": [
        "PRACTICAL QUESTIONS:\n"
      ],
      "metadata": {
        "id": "MKv24PydAlBR"
      }
    },
    {
      "cell_type": "code",
      "source": [
        "#1. Sum of All Even Numbers in a List.\n",
        "def sum_even_numbers(numbers):\n",
        "    return sum(num for num in numbers if num % 2 == 0)\n",
        "\n",
        "print(sum_even_numbers([1, 2, 3, 4, 5, 6]))  # Output: 12\n"
      ],
      "metadata": {
        "colab": {
          "base_uri": "https://localhost:8080/"
        },
        "id": "_3Iq-H6NAqW8",
        "outputId": "16aaeeb2-116c-4dc3-f201-bec88fc7b16c"
      },
      "execution_count": 3,
      "outputs": [
        {
          "output_type": "stream",
          "name": "stdout",
          "text": [
            "12\n"
          ]
        }
      ]
    },
    {
      "cell_type": "code",
      "source": [
        "#2.Reverse a String.\n",
        "def reverse_string(s):\n",
        "    return s[::-1]\n",
        "\n",
        "print(reverse_string(\"hello\"))  # Output: \"olleh\"\n"
      ],
      "metadata": {
        "colab": {
          "base_uri": "https://localhost:8080/"
        },
        "id": "2vsjYu48A17H",
        "outputId": "61c2aaa2-97c6-47bb-db5c-1cf53bdfce94"
      },
      "execution_count": 4,
      "outputs": [
        {
          "output_type": "stream",
          "name": "stdout",
          "text": [
            "olleh\n"
          ]
        }
      ]
    },
    {
      "cell_type": "code",
      "source": [
        "#3.Squares of Each Number in a List.\n",
        "def square_list(numbers):\n",
        "    return [num ** 2 for num in numbers]\n",
        "\n",
        "print(square_list([1, 2, 3, 4]))  # Output: [1, 4, 9, 16]\n"
      ],
      "metadata": {
        "colab": {
          "base_uri": "https://localhost:8080/"
        },
        "id": "wF011SAsBfWY",
        "outputId": "926aa29e-e084-4606-ac75-f9db0dc13e67"
      },
      "execution_count": 5,
      "outputs": [
        {
          "output_type": "stream",
          "name": "stdout",
          "text": [
            "[1, 4, 9, 16]\n"
          ]
        }
      ]
    },
    {
      "cell_type": "code",
      "source": [
        "# 4. Prime Number Checker (1–200)\n",
        "def is_prime(n):\n",
        "    if n < 2:\n",
        "        return False\n",
        "    for i in range(2, int(n**0.5) + 1):\n",
        "        if n % i == 0:\n",
        "            return False\n",
        "    return True\n",
        "for i in range(1, 201):\n",
        "    if is_prime(i):\n",
        "        print(i, end=\" \")\n",
        "\n",
        "\n"
      ],
      "metadata": {
        "colab": {
          "base_uri": "https://localhost:8080/"
        },
        "id": "MiAFHPpDBqyb",
        "outputId": "5e2508c0-56ed-4c39-c88a-dbe8957d8258"
      },
      "execution_count": 10,
      "outputs": [
        {
          "output_type": "stream",
          "name": "stdout",
          "text": [
            "2 3 5 7 11 13 17 19 23 29 31 37 41 43 47 53 59 61 67 71 73 79 83 89 97 101 103 107 109 113 127 131 137 139 149 151 157 163 167 173 179 181 191 193 197 199 "
          ]
        }
      ]
    },
    {
      "cell_type": "code",
      "source": [
        "#5. Fibonacci Iterator Class.\n",
        "class Fibonacci:\n",
        "    def __init__(self, terms):\n",
        "        self.terms = terms\n",
        "        self.a, self.b = 0, 1\n",
        "        self.count = 0\n",
        "\n",
        "    def __iter__(self):\n",
        "        return self\n",
        "\n",
        "    def __next__(self):\n",
        "        if self.count >= self.terms:\n",
        "            raise StopIteration\n",
        "        result = self.a\n",
        "        self.a, self.b = self.b, self.a + self.b\n",
        "        self.count += 1\n",
        "        return result\n",
        "\n",
        "for num in Fibonacci(10):\n",
        "    print(num, end=\" \")  # Output: 0 1 1 2 3 5 8 13 21 34\n",
        "\n"
      ],
      "metadata": {
        "colab": {
          "base_uri": "https://localhost:8080/"
        },
        "id": "WX3xkC9QCouR",
        "outputId": "11c2f48b-bf05-401f-d64f-e1603ce186d7"
      },
      "execution_count": 11,
      "outputs": [
        {
          "output_type": "stream",
          "name": "stdout",
          "text": [
            "0 1 1 2 3 5 8 13 21 34 "
          ]
        }
      ]
    },
    {
      "cell_type": "code",
      "source": [
        "#6. Generator Function for Powers of 2.\n",
        "def powers_of_two(n):\n",
        "    for i in range(n + 1):\n",
        "        yield 2 ** i\n",
        "\n",
        "for power in powers_of_two(5):\n",
        "    print(power)  # Output: 1 2 4 8 16 32\n"
      ],
      "metadata": {
        "colab": {
          "base_uri": "https://localhost:8080/"
        },
        "id": "W92IRnv0C2lE",
        "outputId": "e9aaf2b5-2621-4795-b3f8-149f594d6352"
      },
      "execution_count": 12,
      "outputs": [
        {
          "output_type": "stream",
          "name": "stdout",
          "text": [
            "1\n",
            "2\n",
            "4\n",
            "8\n",
            "16\n",
            "32\n"
          ]
        }
      ]
    },
    {
      "cell_type": "code",
      "source": [
        "# 7. File Line Reader Generator.\n",
        "def read_file_lines(filename):\n",
        "    with open(filename, 'r') as file:\n",
        "        for line in file:\n",
        "            yield line.strip()\n",
        "\n",
        "# Example usage (if \"sample.txt\" exists):\n",
        "# for line in read_file_lines(\"sample.txt\"):\n",
        "#     print(line)\n"
      ],
      "metadata": {
        "id": "SZqoZ55tDABg"
      },
      "execution_count": 14,
      "outputs": []
    },
    {
      "cell_type": "code",
      "source": [
        "#8. Sort Tuples by Second Element (Lambda).\n",
        "data = [(1, 3), (4, 1), (2, 5)]\n",
        "sorted_data = sorted(data, key=lambda x: x[1])\n",
        "print(sorted_data)  # Output: [(4, 1), (1, 3), (2, 5)]\n"
      ],
      "metadata": {
        "colab": {
          "base_uri": "https://localhost:8080/"
        },
        "id": "v5gsGKhNDKKi",
        "outputId": "4f14862e-e7ae-4cd9-b15b-c295a83b087b"
      },
      "execution_count": 15,
      "outputs": [
        {
          "output_type": "stream",
          "name": "stdout",
          "text": [
            "[(4, 1), (1, 3), (2, 5)]\n"
          ]
        }
      ]
    },
    {
      "cell_type": "code",
      "source": [
        "#9. Convert Celsius to Fahrenheit with map().\n",
        "celsius = [0, 20, 30, 40]\n",
        "fahrenheit = list(map(lambda c: (c * 9/5) + 32, celsius))\n",
        "print(fahrenheit)  # Output: [32.0, 68.0, 86.0, 104.0]\n"
      ],
      "metadata": {
        "colab": {
          "base_uri": "https://localhost:8080/"
        },
        "id": "Dphm1MPjDQcI",
        "outputId": "a22cfdee-8219-4f5e-f42a-51841c710bf8"
      },
      "execution_count": 16,
      "outputs": [
        {
          "output_type": "stream",
          "name": "stdout",
          "text": [
            "[32.0, 68.0, 86.0, 104.0]\n"
          ]
        }
      ]
    },
    {
      "cell_type": "code",
      "source": [
        "#10. Remove Vowels from String using filter().\n",
        "def remove_vowels(string):\n",
        "    vowels = 'aeiouAEIOU'\n",
        "    return ''.join(filter(lambda ch: ch not in vowels, string))\n",
        "\n",
        "print(remove_vowels(\"Hello World\"))  # Output: \"Hll Wrld\"\n"
      ],
      "metadata": {
        "colab": {
          "base_uri": "https://localhost:8080/"
        },
        "id": "jXSEqgtaDaxY",
        "outputId": "3aa63054-6579-41d3-dde6-995008ab383a"
      },
      "execution_count": 17,
      "outputs": [
        {
          "output_type": "stream",
          "name": "stdout",
          "text": [
            "Hll Wrld\n"
          ]
        }
      ]
    },
    {
      "cell_type": "code",
      "source": [
        "#11.Book Shop Accounting with Lambda and map().\n",
        "orders = [\n",
        "    [34587, \"Learning Python\", 4, 40.95],\n",
        "    [98762, \"Programming in C\", 5, 17.50],\n",
        "    [77226, \"Head First Java\", 3, 33.99],\n",
        "    [88112, \"Algorithms\", 3, 25.50],\n",
        "]\n",
        "\n",
        "# Lambda and map solution:\n",
        "result = list(map(lambda order: (order[0], order[2] * order[3] + (10 if order[2] * order[3] < 100 else 0)), orders))\n",
        "\n",
        "print(result)\n",
        "# Output:\n",
        "# [(34587, 163.8), (98762, 97.5), (77226, 101.97), (88112, 86.5)]\n"
      ],
      "metadata": {
        "colab": {
          "base_uri": "https://localhost:8080/"
        },
        "id": "ZcKZD6MHDh8g",
        "outputId": "61ec29a7-2358-4fd2-bbc9-0d6d7a7cd3d5"
      },
      "execution_count": 18,
      "outputs": [
        {
          "output_type": "stream",
          "name": "stdout",
          "text": [
            "[(34587, 163.8), (98762, 97.5), (77226, 101.97), (88112, 86.5)]\n"
          ]
        }
      ]
    }
  ]
}